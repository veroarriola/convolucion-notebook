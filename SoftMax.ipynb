{
 "cells": [
  {
   "cell_type": "code",
   "execution_count": 1,
   "metadata": {},
   "outputs": [],
   "source": [
    "%matplotlib inline\n",
    "\n",
    "import matplotlib.pyplot as plt\n",
    "import matplotlib.cm as cm\n",
    "import json, matplotlib\n",
    "s = json.load( open(\"styles/bmh_matplotlibrc.json\") )\n",
    "matplotlib.rcParams.update(s)\n",
    "from IPython.core.pylabtools import figsize\n",
    "figsize(11, 5)\n",
    "colores = [\"#348ABD\", \"#A60628\",\"#06A628\"]\n",
    "\n",
    "from ipywidgets import interact, interact_manual, interactive, fixed\n",
    "import ipywidgets as widgets\n",
    "from IPython.display import display"
   ]
  },
  {
   "cell_type": "code",
   "execution_count": 2,
   "metadata": {},
   "outputs": [],
   "source": [
    "import numpy as np"
   ]
  },
  {
   "cell_type": "markdown",
   "metadata": {},
   "source": [
    "# Soft max\n",
    "La función de activación _soft max_ se utiliza cuando la salida esperada de la red es la probabilidad de que el vector de entrada corresponda a un ejemplar de entre un conjunto de clases posibles.  Cada clase posible es representada por una neurona, utilizando _one hot enconding_, pero en este caso la entrada sólo debería pertenecer a una de las clases.\n",
    "\n",
    "Por ejemplo: una imagen es de un perro, gato o caballo, así que la salida podría indicar 50% de probabilidad de que sea un perro, 30% de que sea gato, 20% de que sea caballo.  Si, en otro caso, pudiera haber fotografías con gatos y perros entonces no se utiliza softmax, porque cada neurona de salida debería codificar, independientemente, la probabilidad de que haya un gato y la probabilidad de que haya un perro.\n",
    "\n",
    "Por lo tanto _soft max_ depende de los potenciales de activación de todas las neuronas en la capa, de modo que las salidas de todas las neuronas representan una distribución de probabilidad discreta sobre las clases posibles.\n",
    "\n",
    "\\begin{align}\n",
    "  y(x_j) = \\frac{e^{x_j}}{\\sum_k e^{x_k}}, \\forall j\n",
    "\\end{align}"
   ]
  },
  {
   "cell_type": "code",
   "execution_count": 7,
   "metadata": {},
   "outputs": [],
   "source": [
    "def softmax(x):\n",
    "    \"\"\"Compute softmax values for each sets of scores in x.\"\"\"\n",
    "    #print(\"Scores of \", x)\n",
    "    sm = np.exp(x)\n",
    "    sm = sm / sm.sum(axis=0)\n",
    "    return sm"
   ]
  },
  {
   "cell_type": "code",
   "execution_count": 8,
   "metadata": {},
   "outputs": [
    {
     "name": "stdout",
     "output_type": "stream",
     "text": [
      "[0.8360188  0.11314284 0.05083836]\n"
     ]
    }
   ],
   "source": [
    "scores = [3.0, 1.0, 0.2]\n",
    "print(softmax(scores))"
   ]
  },
  {
   "cell_type": "code",
   "execution_count": 9,
   "metadata": {},
   "outputs": [
    {
     "data": {
      "application/vnd.jupyter.widget-view+json": {
       "model_id": "8b1dd2050b144416bd4b62268c861f75",
       "version_major": 2,
       "version_minor": 0
      },
      "text/plain": [
       "interactive(children=(Output(),), _dom_classes=('widget-interact',))"
      ]
     },
     "metadata": {},
     "output_type": "display_data"
    }
   ],
   "source": [
    "@interact()\n",
    "def plot_softmax():\n",
    "    x = np.arange(-2.0, 6.0, 0.1)\n",
    "    scores = np.vstack([x, np.ones_like(x), 0.2 * np.ones_like(x)])\n",
    "\n",
    "    lines = plt.plot(x, softmax(scores).T, linewidth=2)\n",
    "    for i, line in enumerate(lines):\n",
    "        line.set_label(\"Val \" + str(i))\n",
    "    plt.legend()\n",
    "    plt.xlabel(\"Val 0\")\n",
    "    plt.ylabel(\"Softmax\")\n",
    "    plt.title(\"Variaciones en softmax con $val_1 = 1, val_2 = 0.2$\")\n",
    "    plt.show()"
   ]
  },
  {
   "cell_type": "code",
   "execution_count": 6,
   "metadata": {},
   "outputs": [
    {
     "data": {
      "text/html": [
       "<style>\n",
       "    img {\n",
       "        display: block;\n",
       "\t\tmargin-left: auto;\n",
       "\t\tmargin-right: auto;\n",
       "\t}\n",
       "</style>\n"
      ],
      "text/plain": [
       "<IPython.core.display.HTML object>"
      ]
     },
     "execution_count": 6,
     "metadata": {},
     "output_type": "execute_result"
    }
   ],
   "source": [
    "from IPython.core.display import HTML\n",
    "def css_styling():\n",
    "    styles = open(\"styles/custom.css\", \"r\").read() #or edit path to custom.css\n",
    "    return HTML(styles)\n",
    "css_styling()"
   ]
  },
  {
   "cell_type": "code",
   "execution_count": null,
   "metadata": {},
   "outputs": [],
   "source": []
  }
 ],
 "metadata": {
  "kernelspec": {
   "display_name": "Python 3",
   "language": "python",
   "name": "python3"
  },
  "language_info": {
   "codemirror_mode": {
    "name": "ipython",
    "version": 3
   },
   "file_extension": ".py",
   "mimetype": "text/x-python",
   "name": "python",
   "nbconvert_exporter": "python",
   "pygments_lexer": "ipython3",
   "version": "3.8.5"
  },
  "widgets": {
   "state": {
    "0b01400509044fa4be9340cbc84d891f": {
     "views": []
    },
    "122cb31433cb4b15aac8c8ed6a1c703a": {
     "views": []
    },
    "1df93e86fd434e508cbd3fb47e4901d4": {
     "views": []
    },
    "35bcd58d7fe94111bdff0c7b33f51362": {
     "views": []
    },
    "37c3a8c36ed94c59938fc4f3d9a3c348": {
     "views": []
    },
    "abab73065f3e4bf68c8a40640ea41c1f": {
     "views": [
      {
       "cell_index": 5
      }
     ]
    },
    "cbc0bd1077f04db595fe3b8336284c73": {
     "views": []
    },
    "e6e4c509defd41539f069074d90e9b02": {
     "views": []
    }
   },
   "version": "1.1.2"
  }
 },
 "nbformat": 4,
 "nbformat_minor": 1
}
